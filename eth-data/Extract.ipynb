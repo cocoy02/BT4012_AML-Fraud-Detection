{
 "cells": [
  {
   "cell_type": "code",
   "execution_count": 1,
   "metadata": {},
   "outputs": [],
   "source": [
    "import pickle \n",
    "import networkx as nx\n",
    "import pandas as pd\n",
    "import sqlite3"
   ]
  },
  {
   "cell_type": "code",
   "execution_count": 3,
   "metadata": {},
   "outputs": [],
   "source": [
    "def load_pickle(fname):\n",
    "    with open(fname, 'rb') as f:\n",
    "        return pickle.load(f)\n",
    "\n",
    "G = load_pickle('./MulDiGraph.pkl')"
   ]
  },
  {
   "cell_type": "code",
   "execution_count": 5,
   "metadata": {},
   "outputs": [],
   "source": [
    "conn = sqlite3.connect('graph.db')"
   ]
  },
  {
   "cell_type": "markdown",
   "metadata": {},
   "source": [
    "## Read nodes and edges"
   ]
  },
  {
   "cell_type": "code",
   "execution_count": 4,
   "metadata": {},
   "outputs": [],
   "source": [
    "nodes = []\n",
    "# for idx, nd in enumerate(nx.nodes(G)):\n",
    "#     row = [idx, nd, G.nodes[nd]['isp']]\n",
    "#     print(nd, idx, G.nodes[nd]['isp'])\n",
    "#     nodes.append(row)\n",
    "\n",
    "edges = []\n",
    "for ind, edge in enumerate(nx.edges(G)):\n",
    "    (u, v) = edge\n",
    "    eg = G[u][v][0]\n",
    "    amo, tim = eg['amount'], eg['timestamp']\n",
    "    item = [amo, tim, u, v]\n",
    "    edges.append(item)"
   ]
  },
  {
   "cell_type": "code",
   "execution_count": 6,
   "metadata": {},
   "outputs": [],
   "source": [
    "# nodes_df = pd.DataFrame(nodes, columns=['idx', 'node', 'isp'])\n",
    "nodes_df = pd.read_sql_query(\"SELECT * FROM nodes_with_degree_pagerank\", conn)"
   ]
  },
  {
   "cell_type": "code",
   "execution_count": 37,
   "metadata": {},
   "outputs": [
    {
     "name": "stdout",
     "output_type": "stream",
     "text": [
      "('0x1266f8b9e4dffc9e2f719bf51713f7e714516861', '0xbbfaf27674c2eb5d13edc58a40081248d13dcfeb')\n",
      "('0xa7acac8c1942873f934dbad78910a20ad774588b', '0xbbfaf27674c2eb5d13edc58a40081248d13dcfeb')\n",
      "('0x210ab95cac537f539d3455db57f1e5072befde52', '0xbbfaf27674c2eb5d13edc58a40081248d13dcfeb')\n",
      "('0x3ae74b9f78837faa1527b296f1940bd6f4e15bde', '0xbbfaf27674c2eb5d13edc58a40081248d13dcfeb')\n",
      "('0x1522900b6dafac587d499a862861c0869be6e428', '0xbbfaf27674c2eb5d13edc58a40081248d13dcfeb')\n",
      "('0x1522900b6dafac587d499a862861c0869be6e428', '0xbbfaf27674c2eb5d13edc58a40081248d13dcfeb')\n",
      "('0xff4171e9fba22a6df8b3cd26fb7dd360f15f3583', '0xbbfaf27674c2eb5d13edc58a40081248d13dcfeb')\n",
      "('0x86e6df2933f88a00caa11ad19413123c3abef3de', '0xbbfaf27674c2eb5d13edc58a40081248d13dcfeb')\n"
     ]
    }
   ],
   "source": [
    "test_set = set()\n",
    "lst = list(G.in_edges([\"0xbbfaf27674c2eb5d13edc58a40081248d13dcfeb\"]))\n",
    "for pair in lst:\n",
    "    print(pair)\n",
    "    test_set.add(pair[x] for x in [0,1])"
   ]
  },
  {
   "cell_type": "code",
   "execution_count": 64,
   "metadata": {},
   "outputs": [
    {
     "data": {
      "text/plain": [
       "[('0x1266f8b9e4dffc9e2f719bf51713f7e714516861',\n",
       "  '0xbbfaf27674c2eb5d13edc58a40081248d13dcfeb'),\n",
       " ('0xa7acac8c1942873f934dbad78910a20ad774588b',\n",
       "  '0xbbfaf27674c2eb5d13edc58a40081248d13dcfeb'),\n",
       " ('0x210ab95cac537f539d3455db57f1e5072befde52',\n",
       "  '0xbbfaf27674c2eb5d13edc58a40081248d13dcfeb'),\n",
       " ('0x3ae74b9f78837faa1527b296f1940bd6f4e15bde',\n",
       "  '0xbbfaf27674c2eb5d13edc58a40081248d13dcfeb'),\n",
       " ('0x1522900b6dafac587d499a862861c0869be6e428',\n",
       "  '0xbbfaf27674c2eb5d13edc58a40081248d13dcfeb'),\n",
       " ('0x1522900b6dafac587d499a862861c0869be6e428',\n",
       "  '0xbbfaf27674c2eb5d13edc58a40081248d13dcfeb'),\n",
       " ('0xff4171e9fba22a6df8b3cd26fb7dd360f15f3583',\n",
       "  '0xbbfaf27674c2eb5d13edc58a40081248d13dcfeb'),\n",
       " ('0x86e6df2933f88a00caa11ad19413123c3abef3de',\n",
       "  '0xbbfaf27674c2eb5d13edc58a40081248d13dcfeb')]"
      ]
     },
     "execution_count": 64,
     "metadata": {},
     "output_type": "execute_result"
    }
   ],
   "source": [
    "list(G.in_edges([\"0xbbfaf27674c2eb5d13edc58a40081248d13dcfeb\"]))"
   ]
  },
  {
   "cell_type": "code",
   "execution_count": 65,
   "metadata": {},
   "outputs": [],
   "source": []
  },
  {
   "cell_type": "code",
   "execution_count": 67,
   "metadata": {},
   "outputs": [],
   "source": [
    "nodes_to_include = list(nodes_set)"
   ]
  },
  {
   "cell_type": "code",
   "execution_count": 68,
   "metadata": {},
   "outputs": [
    {
     "data": {
      "text/plain": [
       "29461"
      ]
     },
     "execution_count": 68,
     "metadata": {},
     "output_type": "execute_result"
    }
   ],
   "source": [
    "len(nodes_to_include)"
   ]
  },
  {
   "cell_type": "code",
   "execution_count": 69,
   "metadata": {},
   "outputs": [],
   "source": [
    "sub_G = G.subgraph(nodes_to_include)"
   ]
  },
  {
   "cell_type": "code",
   "execution_count": 74,
   "metadata": {},
   "outputs": [],
   "source": [
    "G_in_degree = dict(G.in_degree())"
   ]
  },
  {
   "cell_type": "code",
   "execution_count": 81,
   "metadata": {},
   "outputs": [],
   "source": [
    "G_out_degree = dict(G.out_degree())"
   ]
  },
  {
   "cell_type": "code",
   "execution_count": 78,
   "metadata": {},
   "outputs": [],
   "source": [
    "for index, row in nodes_df.iterrows():\n",
    "    nodes_df.loc[index, \"in_degree\"] = G_in_degree[row[\"node\"]]"
   ]
  },
  {
   "cell_type": "code",
   "execution_count": 82,
   "metadata": {},
   "outputs": [],
   "source": [
    "for index, row in nodes_df.iterrows():\n",
    "    nodes_df.loc[index, \"out_degree\"] = G_out_degree[row[\"node\"]]"
   ]
  },
  {
   "cell_type": "code",
   "execution_count": 84,
   "metadata": {},
   "outputs": [
    {
     "data": {
      "text/html": [
       "<div>\n",
       "<style scoped>\n",
       "    .dataframe tbody tr th:only-of-type {\n",
       "        vertical-align: middle;\n",
       "    }\n",
       "\n",
       "    .dataframe tbody tr th {\n",
       "        vertical-align: top;\n",
       "    }\n",
       "\n",
       "    .dataframe thead th {\n",
       "        text-align: right;\n",
       "    }\n",
       "</style>\n",
       "<table border=\"1\" class=\"dataframe\">\n",
       "  <thead>\n",
       "    <tr style=\"text-align: right;\">\n",
       "      <th></th>\n",
       "      <th>idx</th>\n",
       "      <th>node</th>\n",
       "      <th>isp</th>\n",
       "      <th>in_degree</th>\n",
       "      <th>out_degree</th>\n",
       "    </tr>\n",
       "  </thead>\n",
       "  <tbody>\n",
       "    <tr>\n",
       "      <th>0</th>\n",
       "      <td>0</td>\n",
       "      <td>0x1f1e784a61a8ca0a90250bcd2170696655b28a21</td>\n",
       "      <td>0</td>\n",
       "      <td>215.0</td>\n",
       "      <td>1624.0</td>\n",
       "    </tr>\n",
       "    <tr>\n",
       "      <th>1</th>\n",
       "      <td>1</td>\n",
       "      <td>0x1266f8b9e4dffc9e2f719bf51713f7e714516861</td>\n",
       "      <td>0</td>\n",
       "      <td>1.0</td>\n",
       "      <td>1.0</td>\n",
       "    </tr>\n",
       "    <tr>\n",
       "      <th>2</th>\n",
       "      <td>2</td>\n",
       "      <td>0xbbfaf27674c2eb5d13edc58a40081248d13dcfeb</td>\n",
       "      <td>1</td>\n",
       "      <td>8.0</td>\n",
       "      <td>0.0</td>\n",
       "    </tr>\n",
       "    <tr>\n",
       "      <th>3</th>\n",
       "      <td>3</td>\n",
       "      <td>0x256fc19e9d8f5be0d451841f218289d1adbbaaa3</td>\n",
       "      <td>0</td>\n",
       "      <td>0.0</td>\n",
       "      <td>1.0</td>\n",
       "    </tr>\n",
       "    <tr>\n",
       "      <th>4</th>\n",
       "      <td>4</td>\n",
       "      <td>0xb50d0c4cb2c29cc232c96a59e9c65eb82914ec75</td>\n",
       "      <td>0</td>\n",
       "      <td>63.0</td>\n",
       "      <td>166.0</td>\n",
       "    </tr>\n",
       "  </tbody>\n",
       "</table>\n",
       "</div>"
      ],
      "text/plain": [
       "   idx                                        node  isp  in_degree  out_degree\n",
       "0    0  0x1f1e784a61a8ca0a90250bcd2170696655b28a21    0      215.0      1624.0\n",
       "1    1  0x1266f8b9e4dffc9e2f719bf51713f7e714516861    0        1.0         1.0\n",
       "2    2  0xbbfaf27674c2eb5d13edc58a40081248d13dcfeb    1        8.0         0.0\n",
       "3    3  0x256fc19e9d8f5be0d451841f218289d1adbbaaa3    0        0.0         1.0\n",
       "4    4  0xb50d0c4cb2c29cc232c96a59e9c65eb82914ec75    0       63.0       166.0"
      ]
     },
     "execution_count": 84,
     "metadata": {},
     "output_type": "execute_result"
    }
   ],
   "source": [
    "nodes_df.head()"
   ]
  },
  {
   "cell_type": "code",
   "execution_count": 86,
   "metadata": {},
   "outputs": [
    {
     "data": {
      "text/plain": [
       "2973489"
      ]
     },
     "execution_count": 86,
     "metadata": {},
     "output_type": "execute_result"
    }
   ],
   "source": [
    "nodes_df.to_sql('nodes_with_degree', sqlite3.connect('graph.db'), if_exists='replace')"
   ]
  },
  {
   "cell_type": "code",
   "execution_count": 17,
   "metadata": {},
   "outputs": [],
   "source": [
    "edges_df = pd.DataFrame(edges, columns=['amount', 'timestamp', 'source', 'target'])"
   ]
  },
  {
   "cell_type": "code",
   "execution_count": 87,
   "metadata": {},
   "outputs": [],
   "source": [
    "pageranks = nx.pagerank(G)"
   ]
  },
  {
   "cell_type": "code",
   "execution_count": 89,
   "metadata": {},
   "outputs": [],
   "source": [
    "for index, row in nodes_df.iterrows():\n",
    "    nodes_df.loc[index, \"pagerank\"] = pageranks[row[\"node\"]]"
   ]
  },
  {
   "cell_type": "code",
   "execution_count": 90,
   "metadata": {},
   "outputs": [
    {
     "data": {
      "text/html": [
       "<div>\n",
       "<style scoped>\n",
       "    .dataframe tbody tr th:only-of-type {\n",
       "        vertical-align: middle;\n",
       "    }\n",
       "\n",
       "    .dataframe tbody tr th {\n",
       "        vertical-align: top;\n",
       "    }\n",
       "\n",
       "    .dataframe thead th {\n",
       "        text-align: right;\n",
       "    }\n",
       "</style>\n",
       "<table border=\"1\" class=\"dataframe\">\n",
       "  <thead>\n",
       "    <tr style=\"text-align: right;\">\n",
       "      <th></th>\n",
       "      <th>idx</th>\n",
       "      <th>node</th>\n",
       "      <th>isp</th>\n",
       "      <th>in_degree</th>\n",
       "      <th>out_degree</th>\n",
       "      <th>pagerank</th>\n",
       "    </tr>\n",
       "  </thead>\n",
       "  <tbody>\n",
       "    <tr>\n",
       "      <th>0</th>\n",
       "      <td>0</td>\n",
       "      <td>0x1f1e784a61a8ca0a90250bcd2170696655b28a21</td>\n",
       "      <td>0</td>\n",
       "      <td>215.0</td>\n",
       "      <td>1624.0</td>\n",
       "      <td>6.168217e-07</td>\n",
       "    </tr>\n",
       "    <tr>\n",
       "      <th>1</th>\n",
       "      <td>1</td>\n",
       "      <td>0x1266f8b9e4dffc9e2f719bf51713f7e714516861</td>\n",
       "      <td>0</td>\n",
       "      <td>1.0</td>\n",
       "      <td>1.0</td>\n",
       "      <td>1.333369e-07</td>\n",
       "    </tr>\n",
       "    <tr>\n",
       "      <th>2</th>\n",
       "      <td>2</td>\n",
       "      <td>0xbbfaf27674c2eb5d13edc58a40081248d13dcfeb</td>\n",
       "      <td>1</td>\n",
       "      <td>8.0</td>\n",
       "      <td>0.0</td>\n",
       "      <td>8.449769e-07</td>\n",
       "    </tr>\n",
       "    <tr>\n",
       "      <th>3</th>\n",
       "      <td>3</td>\n",
       "      <td>0x256fc19e9d8f5be0d451841f218289d1adbbaaa3</td>\n",
       "      <td>0</td>\n",
       "      <td>0.0</td>\n",
       "      <td>1.0</td>\n",
       "      <td>1.331609e-07</td>\n",
       "    </tr>\n",
       "    <tr>\n",
       "      <th>4</th>\n",
       "      <td>4</td>\n",
       "      <td>0xb50d0c4cb2c29cc232c96a59e9c65eb82914ec75</td>\n",
       "      <td>0</td>\n",
       "      <td>63.0</td>\n",
       "      <td>166.0</td>\n",
       "      <td>8.827056e-07</td>\n",
       "    </tr>\n",
       "  </tbody>\n",
       "</table>\n",
       "</div>"
      ],
      "text/plain": [
       "   idx                                        node  isp  in_degree  \\\n",
       "0    0  0x1f1e784a61a8ca0a90250bcd2170696655b28a21    0      215.0   \n",
       "1    1  0x1266f8b9e4dffc9e2f719bf51713f7e714516861    0        1.0   \n",
       "2    2  0xbbfaf27674c2eb5d13edc58a40081248d13dcfeb    1        8.0   \n",
       "3    3  0x256fc19e9d8f5be0d451841f218289d1adbbaaa3    0        0.0   \n",
       "4    4  0xb50d0c4cb2c29cc232c96a59e9c65eb82914ec75    0       63.0   \n",
       "\n",
       "   out_degree      pagerank  \n",
       "0      1624.0  6.168217e-07  \n",
       "1         1.0  1.333369e-07  \n",
       "2         0.0  8.449769e-07  \n",
       "3         1.0  1.331609e-07  \n",
       "4       166.0  8.827056e-07  "
      ]
     },
     "execution_count": 90,
     "metadata": {},
     "output_type": "execute_result"
    }
   ],
   "source": [
    "nodes_df.head()"
   ]
  },
  {
   "cell_type": "code",
   "execution_count": 91,
   "metadata": {},
   "outputs": [
    {
     "data": {
      "text/plain": [
       "2973489"
      ]
     },
     "execution_count": 91,
     "metadata": {},
     "output_type": "execute_result"
    }
   ],
   "source": [
    "nodes_df.to_sql('nodes_with_degree_pagerank', sqlite3.connect('graph.db'), if_exists='replace')"
   ]
  },
  {
   "cell_type": "code",
   "execution_count": 19,
   "metadata": {},
   "outputs": [],
   "source": [
    "query = f\"\"\"\n",
    "SELECT SUM(amount) as weightsout, source\n",
    "FROM edges\n",
    "GROUP BY source\n",
    "\"\"\"\n",
    "\n",
    "G_out_weights = pd.read_sql_query(query, conn)"
   ]
  },
  {
   "cell_type": "code",
   "execution_count": 20,
   "metadata": {},
   "outputs": [
    {
     "data": {
      "text/html": [
       "<div>\n",
       "<style scoped>\n",
       "    .dataframe tbody tr th:only-of-type {\n",
       "        vertical-align: middle;\n",
       "    }\n",
       "\n",
       "    .dataframe tbody tr th {\n",
       "        vertical-align: top;\n",
       "    }\n",
       "\n",
       "    .dataframe thead th {\n",
       "        text-align: right;\n",
       "    }\n",
       "</style>\n",
       "<table border=\"1\" class=\"dataframe\">\n",
       "  <thead>\n",
       "    <tr style=\"text-align: right;\">\n",
       "      <th></th>\n",
       "      <th>SUM(amount)</th>\n",
       "      <th>source</th>\n",
       "    </tr>\n",
       "  </thead>\n",
       "  <tbody>\n",
       "    <tr>\n",
       "      <th>0</th>\n",
       "      <td>28.98</td>\n",
       "      <td>0x0000000008b4c94610f112d6bae67a198ca6269d</td>\n",
       "    </tr>\n",
       "    <tr>\n",
       "      <th>1</th>\n",
       "      <td>0.20</td>\n",
       "      <td>0x000000004fdd41501a42651743c55f7e41ec85e4</td>\n",
       "    </tr>\n",
       "    <tr>\n",
       "      <th>2</th>\n",
       "      <td>0.00</td>\n",
       "      <td>0x0000000050514c83aa5d55cb5dcc774fc69641c7</td>\n",
       "    </tr>\n",
       "    <tr>\n",
       "      <th>3</th>\n",
       "      <td>0.30</td>\n",
       "      <td>0x00000000ad4eb06bc550dc45ce28888c0626839a</td>\n",
       "    </tr>\n",
       "    <tr>\n",
       "      <th>4</th>\n",
       "      <td>0.00</td>\n",
       "      <td>0x00000000b1ad45d63cf1461e8b2b2e11c27dce8a</td>\n",
       "    </tr>\n",
       "  </tbody>\n",
       "</table>\n",
       "</div>"
      ],
      "text/plain": [
       "   SUM(amount)                                      source\n",
       "0        28.98  0x0000000008b4c94610f112d6bae67a198ca6269d\n",
       "1         0.20  0x000000004fdd41501a42651743c55f7e41ec85e4\n",
       "2         0.00  0x0000000050514c83aa5d55cb5dcc774fc69641c7\n",
       "3         0.30  0x00000000ad4eb06bc550dc45ce28888c0626839a\n",
       "4         0.00  0x00000000b1ad45d63cf1461e8b2b2e11c27dce8a"
      ]
     },
     "execution_count": 20,
     "metadata": {},
     "output_type": "execute_result"
    }
   ],
   "source": [
    "G_out_weights.head()"
   ]
  },
  {
   "cell_type": "code",
   "execution_count": 21,
   "metadata": {},
   "outputs": [],
   "source": [
    "query = f\"\"\"\n",
    "SELECT SUM(amount) as weightsin, target\n",
    "FROM edges\n",
    "GROUP BY target\n",
    "\"\"\"\n",
    "\n",
    "G_in_weights = pd.read_sql_query(query, conn)"
   ]
  },
  {
   "cell_type": "code",
   "execution_count": 22,
   "metadata": {},
   "outputs": [
    {
     "data": {
      "text/html": [
       "<div>\n",
       "<style scoped>\n",
       "    .dataframe tbody tr th:only-of-type {\n",
       "        vertical-align: middle;\n",
       "    }\n",
       "\n",
       "    .dataframe tbody tr th {\n",
       "        vertical-align: top;\n",
       "    }\n",
       "\n",
       "    .dataframe thead th {\n",
       "        text-align: right;\n",
       "    }\n",
       "</style>\n",
       "<table border=\"1\" class=\"dataframe\">\n",
       "  <thead>\n",
       "    <tr style=\"text-align: right;\">\n",
       "      <th></th>\n",
       "      <th>SUM(amount)</th>\n",
       "      <th>target</th>\n",
       "    </tr>\n",
       "  </thead>\n",
       "  <tbody>\n",
       "    <tr>\n",
       "      <th>0</th>\n",
       "      <td>1.763198e+03</td>\n",
       "      <td>0x0000000000000000000000000000000000000000</td>\n",
       "    </tr>\n",
       "    <tr>\n",
       "      <th>1</th>\n",
       "      <td>1.000000e-16</td>\n",
       "      <td>0x0000000000000000000000000000000000000001</td>\n",
       "    </tr>\n",
       "    <tr>\n",
       "      <th>2</th>\n",
       "      <td>0.000000e+00</td>\n",
       "      <td>0x0000000000000000000000000000000000000002</td>\n",
       "    </tr>\n",
       "    <tr>\n",
       "      <th>3</th>\n",
       "      <td>0.000000e+00</td>\n",
       "      <td>0x0000000000000000000000000000000000002799</td>\n",
       "    </tr>\n",
       "    <tr>\n",
       "      <th>4</th>\n",
       "      <td>4.000000e-01</td>\n",
       "      <td>0x000000000000000000000000000000000000570d</td>\n",
       "    </tr>\n",
       "  </tbody>\n",
       "</table>\n",
       "</div>"
      ],
      "text/plain": [
       "    SUM(amount)                                      target\n",
       "0  1.763198e+03  0x0000000000000000000000000000000000000000\n",
       "1  1.000000e-16  0x0000000000000000000000000000000000000001\n",
       "2  0.000000e+00  0x0000000000000000000000000000000000000002\n",
       "3  0.000000e+00  0x0000000000000000000000000000000000002799\n",
       "4  4.000000e-01  0x000000000000000000000000000000000000570d"
      ]
     },
     "execution_count": 22,
     "metadata": {},
     "output_type": "execute_result"
    }
   ],
   "source": [
    "G_in_weights.head()"
   ]
  },
  {
   "cell_type": "code",
   "execution_count": 23,
   "metadata": {},
   "outputs": [
    {
     "data": {
      "text/html": [
       "<div>\n",
       "<style scoped>\n",
       "    .dataframe tbody tr th:only-of-type {\n",
       "        vertical-align: middle;\n",
       "    }\n",
       "\n",
       "    .dataframe tbody tr th {\n",
       "        vertical-align: top;\n",
       "    }\n",
       "\n",
       "    .dataframe thead th {\n",
       "        text-align: right;\n",
       "    }\n",
       "</style>\n",
       "<table border=\"1\" class=\"dataframe\">\n",
       "  <thead>\n",
       "    <tr style=\"text-align: right;\">\n",
       "      <th></th>\n",
       "      <th>index</th>\n",
       "      <th>idx</th>\n",
       "      <th>node</th>\n",
       "      <th>isp</th>\n",
       "      <th>in_degree</th>\n",
       "      <th>out_degree</th>\n",
       "      <th>pagerank</th>\n",
       "    </tr>\n",
       "  </thead>\n",
       "  <tbody>\n",
       "    <tr>\n",
       "      <th>0</th>\n",
       "      <td>0</td>\n",
       "      <td>0</td>\n",
       "      <td>0x1f1e784a61a8ca0a90250bcd2170696655b28a21</td>\n",
       "      <td>0</td>\n",
       "      <td>215.0</td>\n",
       "      <td>1624.0</td>\n",
       "      <td>6.168217e-07</td>\n",
       "    </tr>\n",
       "    <tr>\n",
       "      <th>1</th>\n",
       "      <td>1</td>\n",
       "      <td>1</td>\n",
       "      <td>0x1266f8b9e4dffc9e2f719bf51713f7e714516861</td>\n",
       "      <td>0</td>\n",
       "      <td>1.0</td>\n",
       "      <td>1.0</td>\n",
       "      <td>1.333369e-07</td>\n",
       "    </tr>\n",
       "    <tr>\n",
       "      <th>2</th>\n",
       "      <td>2</td>\n",
       "      <td>2</td>\n",
       "      <td>0xbbfaf27674c2eb5d13edc58a40081248d13dcfeb</td>\n",
       "      <td>1</td>\n",
       "      <td>8.0</td>\n",
       "      <td>0.0</td>\n",
       "      <td>8.449769e-07</td>\n",
       "    </tr>\n",
       "    <tr>\n",
       "      <th>3</th>\n",
       "      <td>3</td>\n",
       "      <td>3</td>\n",
       "      <td>0x256fc19e9d8f5be0d451841f218289d1adbbaaa3</td>\n",
       "      <td>0</td>\n",
       "      <td>0.0</td>\n",
       "      <td>1.0</td>\n",
       "      <td>1.331609e-07</td>\n",
       "    </tr>\n",
       "    <tr>\n",
       "      <th>4</th>\n",
       "      <td>4</td>\n",
       "      <td>4</td>\n",
       "      <td>0xb50d0c4cb2c29cc232c96a59e9c65eb82914ec75</td>\n",
       "      <td>0</td>\n",
       "      <td>63.0</td>\n",
       "      <td>166.0</td>\n",
       "      <td>8.827056e-07</td>\n",
       "    </tr>\n",
       "  </tbody>\n",
       "</table>\n",
       "</div>"
      ],
      "text/plain": [
       "   index  idx                                        node  isp  in_degree  \\\n",
       "0      0    0  0x1f1e784a61a8ca0a90250bcd2170696655b28a21    0      215.0   \n",
       "1      1    1  0x1266f8b9e4dffc9e2f719bf51713f7e714516861    0        1.0   \n",
       "2      2    2  0xbbfaf27674c2eb5d13edc58a40081248d13dcfeb    1        8.0   \n",
       "3      3    3  0x256fc19e9d8f5be0d451841f218289d1adbbaaa3    0        0.0   \n",
       "4      4    4  0xb50d0c4cb2c29cc232c96a59e9c65eb82914ec75    0       63.0   \n",
       "\n",
       "   out_degree      pagerank  \n",
       "0      1624.0  6.168217e-07  \n",
       "1         1.0  1.333369e-07  \n",
       "2         0.0  8.449769e-07  \n",
       "3         1.0  1.331609e-07  \n",
       "4       166.0  8.827056e-07  "
      ]
     },
     "execution_count": 23,
     "metadata": {},
     "output_type": "execute_result"
    }
   ],
   "source": [
    "nodes_df.head()"
   ]
  },
  {
   "cell_type": "code",
   "execution_count": 24,
   "metadata": {},
   "outputs": [],
   "source": [
    "nodes_df_with_weights = nodes_df.merge(G_in_weights, left_on='node', right_on='source', how='left')\n",
    "nodes_df_with_weights.drop(columns=['source'], inplace=True)\n",
    "nodes_df_with_weights.drop(columns=['index'], inplace=True)"
   ]
  },
  {
   "cell_type": "code",
   "execution_count": 33,
   "metadata": {},
   "outputs": [],
   "source": [
    "nodes_df_with_weights = nodes_df_with_weights.merge(G_out_weights, left_on='node', right_on='target', how='left')\n",
    "nodes_df_with_weights.drop(columns=['target'], inplace=True)"
   ]
  },
  {
   "cell_type": "code",
   "execution_count": 45,
   "metadata": {},
   "outputs": [],
   "source": [
    "nodes_df_with_weights.columns = ['idx', 'node', 'isp', 'in_degree', 'out_degree', 'pagerank', 'weightsout', 'weightsin']"
   ]
  },
  {
   "cell_type": "code",
   "execution_count": 46,
   "metadata": {},
   "outputs": [],
   "source": [
    "query = f\"\"\"\n",
    "SELECT COUNT(*) as numin, source\n",
    "FROM edges\n",
    "GROUP BY source\n",
    "\"\"\"\n",
    "\n",
    "G_out_num = pd.read_sql_query(query, conn)"
   ]
  },
  {
   "cell_type": "code",
   "execution_count": 47,
   "metadata": {},
   "outputs": [],
   "source": [
    "query = f\"\"\"\n",
    "SELECT COUNT(*) as numout, target\n",
    "FROM edges\n",
    "GROUP BY target\n",
    "\"\"\"\n",
    "\n",
    "G_in_num = pd.read_sql_query(query, conn)"
   ]
  },
  {
   "cell_type": "code",
   "execution_count": 48,
   "metadata": {},
   "outputs": [
    {
     "data": {
      "text/html": [
       "<div>\n",
       "<style scoped>\n",
       "    .dataframe tbody tr th:only-of-type {\n",
       "        vertical-align: middle;\n",
       "    }\n",
       "\n",
       "    .dataframe tbody tr th {\n",
       "        vertical-align: top;\n",
       "    }\n",
       "\n",
       "    .dataframe thead th {\n",
       "        text-align: right;\n",
       "    }\n",
       "</style>\n",
       "<table border=\"1\" class=\"dataframe\">\n",
       "  <thead>\n",
       "    <tr style=\"text-align: right;\">\n",
       "      <th></th>\n",
       "      <th>numin</th>\n",
       "      <th>source</th>\n",
       "    </tr>\n",
       "  </thead>\n",
       "  <tbody>\n",
       "    <tr>\n",
       "      <th>0</th>\n",
       "      <td>4</td>\n",
       "      <td>0x0000000008b4c94610f112d6bae67a198ca6269d</td>\n",
       "    </tr>\n",
       "    <tr>\n",
       "      <th>1</th>\n",
       "      <td>2</td>\n",
       "      <td>0x000000004fdd41501a42651743c55f7e41ec85e4</td>\n",
       "    </tr>\n",
       "    <tr>\n",
       "      <th>2</th>\n",
       "      <td>1</td>\n",
       "      <td>0x0000000050514c83aa5d55cb5dcc774fc69641c7</td>\n",
       "    </tr>\n",
       "    <tr>\n",
       "      <th>3</th>\n",
       "      <td>1</td>\n",
       "      <td>0x00000000ad4eb06bc550dc45ce28888c0626839a</td>\n",
       "    </tr>\n",
       "    <tr>\n",
       "      <th>4</th>\n",
       "      <td>2</td>\n",
       "      <td>0x00000000b1ad45d63cf1461e8b2b2e11c27dce8a</td>\n",
       "    </tr>\n",
       "  </tbody>\n",
       "</table>\n",
       "</div>"
      ],
      "text/plain": [
       "   numin                                      source\n",
       "0      4  0x0000000008b4c94610f112d6bae67a198ca6269d\n",
       "1      2  0x000000004fdd41501a42651743c55f7e41ec85e4\n",
       "2      1  0x0000000050514c83aa5d55cb5dcc774fc69641c7\n",
       "3      1  0x00000000ad4eb06bc550dc45ce28888c0626839a\n",
       "4      2  0x00000000b1ad45d63cf1461e8b2b2e11c27dce8a"
      ]
     },
     "execution_count": 48,
     "metadata": {},
     "output_type": "execute_result"
    }
   ],
   "source": [
    "G_out_num.head()"
   ]
  },
  {
   "cell_type": "code",
   "execution_count": 49,
   "metadata": {},
   "outputs": [
    {
     "data": {
      "text/html": [
       "<div>\n",
       "<style scoped>\n",
       "    .dataframe tbody tr th:only-of-type {\n",
       "        vertical-align: middle;\n",
       "    }\n",
       "\n",
       "    .dataframe tbody tr th {\n",
       "        vertical-align: top;\n",
       "    }\n",
       "\n",
       "    .dataframe thead th {\n",
       "        text-align: right;\n",
       "    }\n",
       "</style>\n",
       "<table border=\"1\" class=\"dataframe\">\n",
       "  <thead>\n",
       "    <tr style=\"text-align: right;\">\n",
       "      <th></th>\n",
       "      <th>numout</th>\n",
       "      <th>target</th>\n",
       "    </tr>\n",
       "  </thead>\n",
       "  <tbody>\n",
       "    <tr>\n",
       "      <th>0</th>\n",
       "      <td>16</td>\n",
       "      <td>0x0000000000000000000000000000000000000000</td>\n",
       "    </tr>\n",
       "    <tr>\n",
       "      <th>1</th>\n",
       "      <td>4</td>\n",
       "      <td>0x0000000000000000000000000000000000000001</td>\n",
       "    </tr>\n",
       "    <tr>\n",
       "      <th>2</th>\n",
       "      <td>1</td>\n",
       "      <td>0x0000000000000000000000000000000000000002</td>\n",
       "    </tr>\n",
       "    <tr>\n",
       "      <th>3</th>\n",
       "      <td>1</td>\n",
       "      <td>0x0000000000000000000000000000000000002799</td>\n",
       "    </tr>\n",
       "    <tr>\n",
       "      <th>4</th>\n",
       "      <td>1</td>\n",
       "      <td>0x000000000000000000000000000000000000570d</td>\n",
       "    </tr>\n",
       "  </tbody>\n",
       "</table>\n",
       "</div>"
      ],
      "text/plain": [
       "   numout                                      target\n",
       "0      16  0x0000000000000000000000000000000000000000\n",
       "1       4  0x0000000000000000000000000000000000000001\n",
       "2       1  0x0000000000000000000000000000000000000002\n",
       "3       1  0x0000000000000000000000000000000000002799\n",
       "4       1  0x000000000000000000000000000000000000570d"
      ]
     },
     "execution_count": 49,
     "metadata": {},
     "output_type": "execute_result"
    }
   ],
   "source": [
    "G_in_num.head()"
   ]
  },
  {
   "cell_type": "code",
   "execution_count": 50,
   "metadata": {},
   "outputs": [],
   "source": [
    "nodes_df_with_weights_num = nodes_df_with_weights.merge(G_in_num, left_on='node', right_on='target', how='left')\n",
    "nodes_df_with_weights_num.drop(columns=['target'], inplace=True)\n",
    "nodes_df_with_weights_num = nodes_df_with_weights_num.merge(G_out_num, left_on='node', right_on='source', how='left')\n",
    "nodes_df_with_weights_num.drop(columns=['source'], inplace=True)"
   ]
  },
  {
   "cell_type": "code",
   "execution_count": 52,
   "metadata": {},
   "outputs": [],
   "source": [
    "nodes_df_with_weights_num.fillna(0, inplace=True)"
   ]
  },
  {
   "cell_type": "code",
   "execution_count": 53,
   "metadata": {},
   "outputs": [
    {
     "data": {
      "text/plain": [
       "2973489"
      ]
     },
     "execution_count": 53,
     "metadata": {},
     "output_type": "execute_result"
    }
   ],
   "source": [
    "nodes_df_with_weights_num.to_sql('draft_features', sqlite3.connect('graph.db'), if_exists='replace')"
   ]
  },
  {
   "cell_type": "code",
   "execution_count": 54,
   "metadata": {},
   "outputs": [
    {
     "data": {
      "text/plain": [
       "(2973489, 10)"
      ]
     },
     "execution_count": 54,
     "metadata": {},
     "output_type": "execute_result"
    }
   ],
   "source": [
    "nodes_df_with_weights_num.shape"
   ]
  },
  {
   "cell_type": "code",
   "execution_count": 55,
   "metadata": {},
   "outputs": [
    {
     "data": {
      "text/html": [
       "<div>\n",
       "<style scoped>\n",
       "    .dataframe tbody tr th:only-of-type {\n",
       "        vertical-align: middle;\n",
       "    }\n",
       "\n",
       "    .dataframe tbody tr th {\n",
       "        vertical-align: top;\n",
       "    }\n",
       "\n",
       "    .dataframe thead th {\n",
       "        text-align: right;\n",
       "    }\n",
       "</style>\n",
       "<table border=\"1\" class=\"dataframe\">\n",
       "  <thead>\n",
       "    <tr style=\"text-align: right;\">\n",
       "      <th></th>\n",
       "      <th>idx</th>\n",
       "      <th>node</th>\n",
       "      <th>isp</th>\n",
       "      <th>in_degree</th>\n",
       "      <th>out_degree</th>\n",
       "      <th>pagerank</th>\n",
       "      <th>weightsout</th>\n",
       "      <th>weightsin</th>\n",
       "      <th>numout</th>\n",
       "      <th>numin</th>\n",
       "    </tr>\n",
       "  </thead>\n",
       "  <tbody>\n",
       "    <tr>\n",
       "      <th>0</th>\n",
       "      <td>0</td>\n",
       "      <td>0x1f1e784a61a8ca0a90250bcd2170696655b28a21</td>\n",
       "      <td>0</td>\n",
       "      <td>215.0</td>\n",
       "      <td>1624.0</td>\n",
       "      <td>6.168217e-07</td>\n",
       "      <td>14285.789338</td>\n",
       "      <td>15931.196110</td>\n",
       "      <td>215.0</td>\n",
       "      <td>1624.0</td>\n",
       "    </tr>\n",
       "    <tr>\n",
       "      <th>1</th>\n",
       "      <td>1</td>\n",
       "      <td>0x1266f8b9e4dffc9e2f719bf51713f7e714516861</td>\n",
       "      <td>0</td>\n",
       "      <td>1.0</td>\n",
       "      <td>1.0</td>\n",
       "      <td>1.333369e-07</td>\n",
       "      <td>2.344203</td>\n",
       "      <td>2.344623</td>\n",
       "      <td>1.0</td>\n",
       "      <td>1.0</td>\n",
       "    </tr>\n",
       "    <tr>\n",
       "      <th>2</th>\n",
       "      <td>2</td>\n",
       "      <td>0xbbfaf27674c2eb5d13edc58a40081248d13dcfeb</td>\n",
       "      <td>1</td>\n",
       "      <td>8.0</td>\n",
       "      <td>0.0</td>\n",
       "      <td>8.449769e-07</td>\n",
       "      <td>0.000000</td>\n",
       "      <td>25.268098</td>\n",
       "      <td>8.0</td>\n",
       "      <td>0.0</td>\n",
       "    </tr>\n",
       "    <tr>\n",
       "      <th>3</th>\n",
       "      <td>3</td>\n",
       "      <td>0x256fc19e9d8f5be0d451841f218289d1adbbaaa3</td>\n",
       "      <td>0</td>\n",
       "      <td>0.0</td>\n",
       "      <td>1.0</td>\n",
       "      <td>1.331609e-07</td>\n",
       "      <td>0.489485</td>\n",
       "      <td>0.000000</td>\n",
       "      <td>0.0</td>\n",
       "      <td>1.0</td>\n",
       "    </tr>\n",
       "    <tr>\n",
       "      <th>4</th>\n",
       "      <td>4</td>\n",
       "      <td>0xb50d0c4cb2c29cc232c96a59e9c65eb82914ec75</td>\n",
       "      <td>0</td>\n",
       "      <td>63.0</td>\n",
       "      <td>166.0</td>\n",
       "      <td>8.827056e-07</td>\n",
       "      <td>19.336007</td>\n",
       "      <td>8.408347</td>\n",
       "      <td>63.0</td>\n",
       "      <td>166.0</td>\n",
       "    </tr>\n",
       "  </tbody>\n",
       "</table>\n",
       "</div>"
      ],
      "text/plain": [
       "   idx                                        node  isp  in_degree  \\\n",
       "0    0  0x1f1e784a61a8ca0a90250bcd2170696655b28a21    0      215.0   \n",
       "1    1  0x1266f8b9e4dffc9e2f719bf51713f7e714516861    0        1.0   \n",
       "2    2  0xbbfaf27674c2eb5d13edc58a40081248d13dcfeb    1        8.0   \n",
       "3    3  0x256fc19e9d8f5be0d451841f218289d1adbbaaa3    0        0.0   \n",
       "4    4  0xb50d0c4cb2c29cc232c96a59e9c65eb82914ec75    0       63.0   \n",
       "\n",
       "   out_degree      pagerank    weightsout     weightsin  numout   numin  \n",
       "0      1624.0  6.168217e-07  14285.789338  15931.196110   215.0  1624.0  \n",
       "1         1.0  1.333369e-07      2.344203      2.344623     1.0     1.0  \n",
       "2         0.0  8.449769e-07      0.000000     25.268098     8.0     0.0  \n",
       "3         1.0  1.331609e-07      0.489485      0.000000     0.0     1.0  \n",
       "4       166.0  8.827056e-07     19.336007      8.408347    63.0   166.0  "
      ]
     },
     "execution_count": 55,
     "metadata": {},
     "output_type": "execute_result"
    }
   ],
   "source": [
    "nodes_df_with_weights_num.head()"
   ]
  },
  {
   "cell_type": "markdown",
   "metadata": {},
   "source": [
    "## Test with Training"
   ]
  },
  {
   "cell_type": "code",
   "execution_count": 70,
   "metadata": {},
   "outputs": [
    {
     "data": {
      "text/plain": [
       "(1165, 10)"
      ]
     },
     "execution_count": 70,
     "metadata": {},
     "output_type": "execute_result"
    }
   ],
   "source": [
    "fraud = nodes_df_with_weights_num[nodes_df_with_weights_num['isp'] == 1]\n",
    "fraud.shape"
   ]
  },
  {
   "cell_type": "code",
   "execution_count": 72,
   "metadata": {},
   "outputs": [],
   "source": [
    "nodes_set = set()\n",
    "for index, row in fraud.iterrows():\n",
    "    in_edges = list(G.in_edges([row[\"node\"]]))\n",
    "    out_edges = list(G.out_edges([row[\"node\"]]))\n",
    "    nodes_set.add(row[\"node\"])\n",
    "    for pair in in_edges:\n",
    "        nodes_set.add(pair[0])\n",
    "    for pair in out_edges:\n",
    "        nodes_set.add(pair[1])"
   ]
  },
  {
   "cell_type": "code",
   "execution_count": 73,
   "metadata": {},
   "outputs": [],
   "source": [
    "nodes_to_include = list(nodes_set)"
   ]
  },
  {
   "cell_type": "code",
   "execution_count": 76,
   "metadata": {},
   "outputs": [],
   "source": [
    "nodes_to_include = pd.DataFrame(nodes_to_include, columns=['node'])\n",
    "nodes_to_include = nodes_to_include.merge(nodes_df_with_weights_num, left_on='node', right_on='node', how='left')"
   ]
  },
  {
   "cell_type": "code",
   "execution_count": 79,
   "metadata": {},
   "outputs": [
    {
     "data": {
      "text/html": [
       "<div>\n",
       "<style scoped>\n",
       "    .dataframe tbody tr th:only-of-type {\n",
       "        vertical-align: middle;\n",
       "    }\n",
       "\n",
       "    .dataframe tbody tr th {\n",
       "        vertical-align: top;\n",
       "    }\n",
       "\n",
       "    .dataframe thead th {\n",
       "        text-align: right;\n",
       "    }\n",
       "</style>\n",
       "<table border=\"1\" class=\"dataframe\">\n",
       "  <thead>\n",
       "    <tr style=\"text-align: right;\">\n",
       "      <th></th>\n",
       "      <th>node</th>\n",
       "      <th>idx</th>\n",
       "      <th>isp</th>\n",
       "      <th>in_degree</th>\n",
       "      <th>out_degree</th>\n",
       "      <th>pagerank</th>\n",
       "      <th>weightsout</th>\n",
       "      <th>weightsin</th>\n",
       "      <th>numout</th>\n",
       "      <th>numin</th>\n",
       "    </tr>\n",
       "  </thead>\n",
       "  <tbody>\n",
       "    <tr>\n",
       "      <th>0</th>\n",
       "      <td>0xe5d0f67cf53066430ca3e3fcedfbe387500c24f1</td>\n",
       "      <td>766752</td>\n",
       "      <td>0</td>\n",
       "      <td>1.0</td>\n",
       "      <td>7.0</td>\n",
       "      <td>1.333872e-07</td>\n",
       "      <td>0.000000</td>\n",
       "      <td>0.001400</td>\n",
       "      <td>1.0</td>\n",
       "      <td>7.0</td>\n",
       "    </tr>\n",
       "    <tr>\n",
       "      <th>1</th>\n",
       "      <td>0xe6c76bb82397d4e5ef0ebf58133dcbef5b1d70c5</td>\n",
       "      <td>64503</td>\n",
       "      <td>0</td>\n",
       "      <td>1.0</td>\n",
       "      <td>1.0</td>\n",
       "      <td>4.190203e-07</td>\n",
       "      <td>0.014891</td>\n",
       "      <td>0.015038</td>\n",
       "      <td>1.0</td>\n",
       "      <td>1.0</td>\n",
       "    </tr>\n",
       "    <tr>\n",
       "      <th>2</th>\n",
       "      <td>0x0f5662bebf0315b659e8b9ceeae92ea628aceae6</td>\n",
       "      <td>1991399</td>\n",
       "      <td>0</td>\n",
       "      <td>6.0</td>\n",
       "      <td>9.0</td>\n",
       "      <td>4.191195e-07</td>\n",
       "      <td>14.266521</td>\n",
       "      <td>17.627004</td>\n",
       "      <td>6.0</td>\n",
       "      <td>9.0</td>\n",
       "    </tr>\n",
       "    <tr>\n",
       "      <th>3</th>\n",
       "      <td>0xb0f6ec1275d458aae0d94314cede57bf47558751</td>\n",
       "      <td>157383</td>\n",
       "      <td>0</td>\n",
       "      <td>1.0</td>\n",
       "      <td>1.0</td>\n",
       "      <td>4.190203e-07</td>\n",
       "      <td>0.500000</td>\n",
       "      <td>0.500126</td>\n",
       "      <td>1.0</td>\n",
       "      <td>1.0</td>\n",
       "    </tr>\n",
       "    <tr>\n",
       "      <th>4</th>\n",
       "      <td>0x444c4332c6e1e26ed67aac6da5f83bc5ff450beb</td>\n",
       "      <td>682817</td>\n",
       "      <td>0</td>\n",
       "      <td>4.0</td>\n",
       "      <td>7.0</td>\n",
       "      <td>2.060771e-07</td>\n",
       "      <td>0.146212</td>\n",
       "      <td>0.151640</td>\n",
       "      <td>4.0</td>\n",
       "      <td>7.0</td>\n",
       "    </tr>\n",
       "  </tbody>\n",
       "</table>\n",
       "</div>"
      ],
      "text/plain": [
       "                                         node      idx  isp  in_degree  \\\n",
       "0  0xe5d0f67cf53066430ca3e3fcedfbe387500c24f1   766752    0        1.0   \n",
       "1  0xe6c76bb82397d4e5ef0ebf58133dcbef5b1d70c5    64503    0        1.0   \n",
       "2  0x0f5662bebf0315b659e8b9ceeae92ea628aceae6  1991399    0        6.0   \n",
       "3  0xb0f6ec1275d458aae0d94314cede57bf47558751   157383    0        1.0   \n",
       "4  0x444c4332c6e1e26ed67aac6da5f83bc5ff450beb   682817    0        4.0   \n",
       "\n",
       "   out_degree      pagerank  weightsout  weightsin  numout  numin  \n",
       "0         7.0  1.333872e-07    0.000000   0.001400     1.0    7.0  \n",
       "1         1.0  4.190203e-07    0.014891   0.015038     1.0    1.0  \n",
       "2         9.0  4.191195e-07   14.266521  17.627004     6.0    9.0  \n",
       "3         1.0  4.190203e-07    0.500000   0.500126     1.0    1.0  \n",
       "4         7.0  2.060771e-07    0.146212   0.151640     4.0    7.0  "
      ]
     },
     "execution_count": 79,
     "metadata": {},
     "output_type": "execute_result"
    }
   ],
   "source": [
    "nodes_to_include.head()"
   ]
  },
  {
   "cell_type": "code",
   "execution_count": 87,
   "metadata": {},
   "outputs": [],
   "source": [
    "nodes_to_include.to_csv('nodes_to_include.csv', index=False)"
   ]
  },
  {
   "cell_type": "code",
   "execution_count": 80,
   "metadata": {},
   "outputs": [],
   "source": [
    "X = nodes_to_include.drop(columns=['node', 'isp', 'idx'])\n",
    "y = nodes_to_include['isp']"
   ]
  },
  {
   "cell_type": "code",
   "execution_count": 81,
   "metadata": {},
   "outputs": [],
   "source": [
    "## Random Forest\n",
    "from sklearn.ensemble import RandomForestClassifier\n",
    "from sklearn.model_selection import train_test_split\n",
    "from sklearn.metrics import accuracy_score\n",
    "\n",
    "X_train, X_test, y_train, y_test = train_test_split(X, y, test_size=0.2, random_state=42)\n",
    "\n",
    "rf = RandomForestClassifier(n_estimators=100, max_depth=2, random_state=0)\n"
   ]
  },
  {
   "cell_type": "code",
   "execution_count": 82,
   "metadata": {},
   "outputs": [
    {
     "data": {
      "text/html": [
       "<style>#sk-container-id-3 {color: black;}#sk-container-id-3 pre{padding: 0;}#sk-container-id-3 div.sk-toggleable {background-color: white;}#sk-container-id-3 label.sk-toggleable__label {cursor: pointer;display: block;width: 100%;margin-bottom: 0;padding: 0.3em;box-sizing: border-box;text-align: center;}#sk-container-id-3 label.sk-toggleable__label-arrow:before {content: \"▸\";float: left;margin-right: 0.25em;color: #696969;}#sk-container-id-3 label.sk-toggleable__label-arrow:hover:before {color: black;}#sk-container-id-3 div.sk-estimator:hover label.sk-toggleable__label-arrow:before {color: black;}#sk-container-id-3 div.sk-toggleable__content {max-height: 0;max-width: 0;overflow: hidden;text-align: left;background-color: #f0f8ff;}#sk-container-id-3 div.sk-toggleable__content pre {margin: 0.2em;color: black;border-radius: 0.25em;background-color: #f0f8ff;}#sk-container-id-3 input.sk-toggleable__control:checked~div.sk-toggleable__content {max-height: 200px;max-width: 100%;overflow: auto;}#sk-container-id-3 input.sk-toggleable__control:checked~label.sk-toggleable__label-arrow:before {content: \"▾\";}#sk-container-id-3 div.sk-estimator input.sk-toggleable__control:checked~label.sk-toggleable__label {background-color: #d4ebff;}#sk-container-id-3 div.sk-label input.sk-toggleable__control:checked~label.sk-toggleable__label {background-color: #d4ebff;}#sk-container-id-3 input.sk-hidden--visually {border: 0;clip: rect(1px 1px 1px 1px);clip: rect(1px, 1px, 1px, 1px);height: 1px;margin: -1px;overflow: hidden;padding: 0;position: absolute;width: 1px;}#sk-container-id-3 div.sk-estimator {font-family: monospace;background-color: #f0f8ff;border: 1px dotted black;border-radius: 0.25em;box-sizing: border-box;margin-bottom: 0.5em;}#sk-container-id-3 div.sk-estimator:hover {background-color: #d4ebff;}#sk-container-id-3 div.sk-parallel-item::after {content: \"\";width: 100%;border-bottom: 1px solid gray;flex-grow: 1;}#sk-container-id-3 div.sk-label:hover label.sk-toggleable__label {background-color: #d4ebff;}#sk-container-id-3 div.sk-serial::before {content: \"\";position: absolute;border-left: 1px solid gray;box-sizing: border-box;top: 0;bottom: 0;left: 50%;z-index: 0;}#sk-container-id-3 div.sk-serial {display: flex;flex-direction: column;align-items: center;background-color: white;padding-right: 0.2em;padding-left: 0.2em;position: relative;}#sk-container-id-3 div.sk-item {position: relative;z-index: 1;}#sk-container-id-3 div.sk-parallel {display: flex;align-items: stretch;justify-content: center;background-color: white;position: relative;}#sk-container-id-3 div.sk-item::before, #sk-container-id-3 div.sk-parallel-item::before {content: \"\";position: absolute;border-left: 1px solid gray;box-sizing: border-box;top: 0;bottom: 0;left: 50%;z-index: -1;}#sk-container-id-3 div.sk-parallel-item {display: flex;flex-direction: column;z-index: 1;position: relative;background-color: white;}#sk-container-id-3 div.sk-parallel-item:first-child::after {align-self: flex-end;width: 50%;}#sk-container-id-3 div.sk-parallel-item:last-child::after {align-self: flex-start;width: 50%;}#sk-container-id-3 div.sk-parallel-item:only-child::after {width: 0;}#sk-container-id-3 div.sk-dashed-wrapped {border: 1px dashed gray;margin: 0 0.4em 0.5em 0.4em;box-sizing: border-box;padding-bottom: 0.4em;background-color: white;}#sk-container-id-3 div.sk-label label {font-family: monospace;font-weight: bold;display: inline-block;line-height: 1.2em;}#sk-container-id-3 div.sk-label-container {text-align: center;}#sk-container-id-3 div.sk-container {/* jupyter's `normalize.less` sets `[hidden] { display: none; }` but bootstrap.min.css set `[hidden] { display: none !important; }` so we also need the `!important` here to be able to override the default hidden behavior on the sphinx rendered scikit-learn.org. See: https://github.com/scikit-learn/scikit-learn/issues/21755 */display: inline-block !important;position: relative;}#sk-container-id-3 div.sk-text-repr-fallback {display: none;}</style><div id=\"sk-container-id-3\" class=\"sk-top-container\"><div class=\"sk-text-repr-fallback\"><pre>RandomForestClassifier(max_depth=2, random_state=0)</pre><b>In a Jupyter environment, please rerun this cell to show the HTML representation or trust the notebook. <br />On GitHub, the HTML representation is unable to render, please try loading this page with nbviewer.org.</b></div><div class=\"sk-container\" hidden><div class=\"sk-item\"><div class=\"sk-estimator sk-toggleable\"><input class=\"sk-toggleable__control sk-hidden--visually\" id=\"sk-estimator-id-3\" type=\"checkbox\" checked><label for=\"sk-estimator-id-3\" class=\"sk-toggleable__label sk-toggleable__label-arrow\">RandomForestClassifier</label><div class=\"sk-toggleable__content\"><pre>RandomForestClassifier(max_depth=2, random_state=0)</pre></div></div></div></div></div>"
      ],
      "text/plain": [
       "RandomForestClassifier(max_depth=2, random_state=0)"
      ]
     },
     "execution_count": 82,
     "metadata": {},
     "output_type": "execute_result"
    }
   ],
   "source": [
    "rf.fit(X_train, y_train)"
   ]
  },
  {
   "cell_type": "code",
   "execution_count": 83,
   "metadata": {},
   "outputs": [
    {
     "data": {
      "text/plain": [
       "0.9585949431528933"
      ]
     },
     "execution_count": 83,
     "metadata": {},
     "output_type": "execute_result"
    }
   ],
   "source": [
    "y_pred = rf.predict(X_test)\n",
    "accuracy_score(y_test, y_pred)"
   ]
  },
  {
   "cell_type": "code",
   "execution_count": 84,
   "metadata": {},
   "outputs": [
    {
     "name": "stdout",
     "output_type": "stream",
     "text": [
      "              precision    recall  f1-score   support\n",
      "\n",
      "           0       0.96      1.00      0.98      5649\n",
      "           1       0.00      0.00      0.00       244\n",
      "\n",
      "    accuracy                           0.96      5893\n",
      "   macro avg       0.48      0.50      0.49      5893\n",
      "weighted avg       0.92      0.96      0.94      5893\n",
      "\n"
     ]
    },
    {
     "name": "stderr",
     "output_type": "stream",
     "text": [
      "/Users/lokki/myenv/lib/python3.9/site-packages/sklearn/metrics/_classification.py:1469: UndefinedMetricWarning: Precision and F-score are ill-defined and being set to 0.0 in labels with no predicted samples. Use `zero_division` parameter to control this behavior.\n",
      "  _warn_prf(average, modifier, msg_start, len(result))\n",
      "/Users/lokki/myenv/lib/python3.9/site-packages/sklearn/metrics/_classification.py:1469: UndefinedMetricWarning: Precision and F-score are ill-defined and being set to 0.0 in labels with no predicted samples. Use `zero_division` parameter to control this behavior.\n",
      "  _warn_prf(average, modifier, msg_start, len(result))\n",
      "/Users/lokki/myenv/lib/python3.9/site-packages/sklearn/metrics/_classification.py:1469: UndefinedMetricWarning: Precision and F-score are ill-defined and being set to 0.0 in labels with no predicted samples. Use `zero_division` parameter to control this behavior.\n",
      "  _warn_prf(average, modifier, msg_start, len(result))\n"
     ]
    }
   ],
   "source": [
    "from sklearn.metrics import confusion_matrix, classification_report\n",
    "# confusion_matrix(y_test, y_pred)\n",
    "print(classification_report(y_test, y_pred))\n"
   ]
  },
  {
   "cell_type": "code",
   "execution_count": 89,
   "metadata": {},
   "outputs": [],
   "source": [
    "nodes_df_with_weights_num.to_csv('whole_final_dataset.csv', index=False)"
   ]
  },
  {
   "cell_type": "code",
   "execution_count": null,
   "metadata": {},
   "outputs": [],
   "source": []
  }
 ],
 "metadata": {
  "kernelspec": {
   "display_name": "myenv",
   "language": "python",
   "name": "python3"
  },
  "language_info": {
   "codemirror_mode": {
    "name": "ipython",
    "version": 3
   },
   "file_extension": ".py",
   "mimetype": "text/x-python",
   "name": "python",
   "nbconvert_exporter": "python",
   "pygments_lexer": "ipython3",
   "version": "3.9.18"
  }
 },
 "nbformat": 4,
 "nbformat_minor": 2
}
