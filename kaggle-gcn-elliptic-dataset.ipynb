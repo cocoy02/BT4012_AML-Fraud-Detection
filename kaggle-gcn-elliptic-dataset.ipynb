{
 "cells": [
  {
   "cell_type": "code",
   "execution_count": 8,
   "metadata": {},
   "outputs": [],
   "source": [
    "import numpy as np\n",
    "import time\n",
    "import sys\n",
    "import pandas as pd\n",
    "import os"
   ]
  },
  {
   "cell_type": "code",
   "execution_count": 9,
   "metadata": {},
   "outputs": [],
   "source": [
    "df_classes = pd.read_csv('elliptic_bitcoin_dataset/elliptic_txs_classes.csv')\n",
    "df_edges = pd.read_csv('elliptic_bitcoin_dataset/elliptic_txs_edgelist.csv')\n",
    "df_features = pd.read_csv('elliptic_bitcoin_dataset/elliptic_txs_features.csv', header=None)\n",
    "colNames1 = {'0': 'txId', 1: \"Time step\"}\n",
    "colNames2 = {str(ii+2): \"Local_feature_\" + str(ii+1) for ii in range(93)}\n",
    "colNames3 = {str(ii+95): \"Aggregate_feature_\" + str(ii+1) for ii in range(72)}\n",
    "\n",
    "colNames = dict(colNames1, **colNames2, **colNames3 )\n",
    "colNames = {int(jj): item_kk for jj,item_kk in colNames.items()}\n",
    "\n",
    "df_features = df_features.rename(columns=colNames)\n",
    "df_classes.loc[df_classes['class'] == 'unknown', 'class'] = 3"
   ]
  },
  {
   "cell_type": "code",
   "execution_count": 10,
   "metadata": {
    "execution": {
     "iopub.execute_input": "2021-01-08T04:53:19.884519Z",
     "iopub.status.busy": "2021-01-08T04:53:19.883833Z",
     "iopub.status.idle": "2021-01-08T05:00:38.696217Z",
     "shell.execute_reply": "2021-01-08T05:00:38.695105Z"
    },
    "papermill": {
     "duration": 438.839957,
     "end_time": "2021-01-08T05:00:38.696363",
     "exception": false,
     "start_time": "2021-01-08T04:53:19.856406",
     "status": "completed"
    },
    "tags": []
   },
   "outputs": [],
   "source": [
    "adj_mats = df_edges\n",
    "features_labelled_ts = df_features\n",
    "classes_ts = df_classes\n",
    "dataSet = adj_mats, features_labelled_ts, classes_ts"
   ]
  },
  {
   "cell_type": "code",
   "execution_count": 3,
   "metadata": {
    "execution": {
     "iopub.execute_input": "2021-01-08T05:00:38.729895Z",
     "iopub.status.busy": "2021-01-08T05:00:38.729212Z",
     "iopub.status.idle": "2021-01-08T05:00:40.294745Z",
     "shell.execute_reply": "2021-01-08T05:00:40.293538Z"
    },
    "papermill": {
     "duration": 1.591039,
     "end_time": "2021-01-08T05:00:40.294924",
     "exception": false,
     "start_time": "2021-01-08T05:00:38.703885",
     "status": "completed"
    },
    "tags": []
   },
   "outputs": [],
   "source": [
    "import torch\n",
    "import torch.nn as nn\n",
    "import torch.nn.functional as F\n",
    "\n",
    "import numpy as np\n",
    "import time\n",
    "import sys\n",
    "\n",
    "class GraphConv(nn.Module):\n",
    "    def __init__(self, in_features, out_features, activation  = 'relu', skip = False, skip_in_features = None):\n",
    "        super(GraphConv, self).__init__()\n",
    "        self.W = torch.nn.Parameter(torch.DoubleTensor(in_features, out_features))\n",
    "        nn.init.xavier_uniform_(self.W)\n",
    "        \n",
    "        self.set_act = False\n",
    "        if activation == 'relu':\n",
    "            self.activation = nn.ReLU()\n",
    "            self.set_act = True\n",
    "        elif activation == 'softmax':\n",
    "            self.activation = nn.Softmax(dim = 1)\n",
    "            self.set_act = True\n",
    "        else:\n",
    "            self.set_act = False\n",
    "            raise ValueError(\"activations supported are 'relu' and 'softmax'\")\n",
    "            \n",
    "        self.skip = skip\n",
    "        if self.skip:\n",
    "            if skip_in_features == None:\n",
    "                raise ValueError(\"pass input feature size of the skip connection\")\n",
    "            self.W_skip = torch.nn.Parameter(torch.DoubleTensor(skip_in_features, out_features)) \n",
    "            nn.init.xavier_uniform_(self.W)\n",
    "        \n",
    "    def forward(self, A, H_in, H_skip_in = None):\n",
    "        # A must be an n x n matrix as it is an adjacency matrix\n",
    "        # H is the input of the node embeddings, shape will n x in_features\n",
    "        self.A = A\n",
    "        self.H_in = H_in\n",
    "        A_ = torch.add(self.A, torch.eye(self.A.shape[0]).double())\n",
    "        D_ = torch.diag(A_.sum(1))\n",
    "        # since D_ is a diagonal matrix, \n",
    "        # its root will be the roots of the diagonal elements on the principle diagonal\n",
    "        # since A is an adjacency matrix, we are only dealing with positive values \n",
    "        # all roots will be real\n",
    "        D_root_inv = torch.inverse(torch.sqrt(D_))\n",
    "        A_norm = torch.mm(torch.mm(D_root_inv, A_), D_root_inv)\n",
    "        # shape of A_norm will be n x n\n",
    "        \n",
    "        H_out = torch.mm(torch.mm(A_norm, H_in), self.W)\n",
    "        # shape of H_out will be n x out_features\n",
    "        \n",
    "        if self.skip:\n",
    "            H_skip_out = torch.mm(H_skip_in, self.W_skip)\n",
    "            H_out = torch.add(H_out, H_skip_out)\n",
    "        \n",
    "        if self.set_act:\n",
    "            H_out = self.activation(H_out)\n",
    "            \n",
    "        return H_out"
   ]
  },
  {
   "cell_type": "code",
   "execution_count": 4,
   "metadata": {
    "execution": {
     "iopub.execute_input": "2021-01-08T05:00:40.319127Z",
     "iopub.status.busy": "2021-01-08T05:00:40.318308Z",
     "iopub.status.idle": "2021-01-08T05:00:40.321256Z",
     "shell.execute_reply": "2021-01-08T05:00:40.320747Z"
    },
    "papermill": {
     "duration": 0.018853,
     "end_time": "2021-01-08T05:00:40.321352",
     "exception": false,
     "start_time": "2021-01-08T05:00:40.302499",
     "status": "completed"
    },
    "tags": []
   },
   "outputs": [],
   "source": [
    "class GCN_2layer(nn.Module):\n",
    "    def __init__(self, in_features, hidden_features, out_features, skip = False):\n",
    "        super(GCN_2layer, self).__init__()\n",
    "        self.skip = skip\n",
    "        \n",
    "        self.gcl1 = GraphConv(in_features, hidden_features)\n",
    "        \n",
    "        if self.skip:\n",
    "            self.gcl_skip = GraphConv(hidden_features, out_features, activation = 'softmax', skip = self.skip,\n",
    "                                  skip_in_features = in_features)\n",
    "        else:\n",
    "            self.gcl2 = GraphConv(hidden_features, out_features, activation = 'softmax')\n",
    "        \n",
    "    def forward(self, A, X):\n",
    "        out = self.gcl1(A, X)\n",
    "        if self.skip:\n",
    "            out = self.gcl_skip(A, out, X)\n",
    "        else:\n",
    "            out = self.gcl2(A, out)\n",
    "            \n",
    "        return out"
   ]
  },
  {
   "cell_type": "code",
   "execution_count": 19,
   "metadata": {},
   "outputs": [
    {
     "data": {
      "text/plain": [
       "txId     int64\n",
       "class    int32\n",
       "dtype: object"
      ]
     },
     "execution_count": 19,
     "metadata": {},
     "output_type": "execute_result"
    }
   ],
   "source": [
    "classes_ts['class'] = classes_ts['class'].astype('int')\n",
    "classes_ts.dtypes"
   ]
  },
  {
   "cell_type": "code",
   "execution_count": 20,
   "metadata": {
    "execution": {
     "iopub.execute_input": "2021-01-08T05:00:41.064852Z",
     "iopub.status.busy": "2021-01-08T05:00:41.064091Z",
     "iopub.status.idle": "2021-01-08T05:03:58.100827Z",
     "shell.execute_reply": "2021-01-08T05:03:58.100244Z"
    },
    "papermill": {
     "duration": 197.077887,
     "end_time": "2021-01-08T05:03:58.101002",
     "exception": false,
     "start_time": "2021-01-08T05:00:41.023115",
     "status": "completed"
    },
    "tags": []
   },
   "outputs": [
    {
     "ename": "TypeError",
     "evalue": "string indices must be integers, not 'str'",
     "output_type": "error",
     "traceback": [
      "\u001b[1;31m---------------------------------------------------------------------------\u001b[0m",
      "\u001b[1;31mTypeError\u001b[0m                                 Traceback (most recent call last)",
      "\u001b[1;32mc:\\Users\\korey\\OneDrive\\Desktop\\Y4S1\\BT4012 Fraud\\Project\\kaggle-gcn-elliptic-dataset.ipynb Cell 7\u001b[0m line \u001b[0;36m1\n\u001b[0;32m     <a href='vscode-notebook-cell:/c%3A/Users/korey/OneDrive/Desktop/Y4S1/BT4012%20Fraud/Project/kaggle-gcn-elliptic-dataset.ipynb#W5sZmlsZQ%3D%3D?line=11'>12</a>\u001b[0m labels_ts \u001b[39m=\u001b[39m []\n\u001b[0;32m     <a href='vscode-notebook-cell:/c%3A/Users/korey/OneDrive/Desktop/Y4S1/BT4012%20Fraud/Project/kaggle-gcn-elliptic-dataset.ipynb#W5sZmlsZQ%3D%3D?line=12'>13</a>\u001b[0m \u001b[39mfor\u001b[39;00m c \u001b[39min\u001b[39;00m classes_ts:\n\u001b[1;32m---> <a href='vscode-notebook-cell:/c%3A/Users/korey/OneDrive/Desktop/Y4S1/BT4012%20Fraud/Project/kaggle-gcn-elliptic-dataset.ipynb#W5sZmlsZQ%3D%3D?line=13'>14</a>\u001b[0m     labels_ts\u001b[39m.\u001b[39mappend(np\u001b[39m.\u001b[39marray(c[\u001b[39m'\u001b[39m\u001b[39mclass\u001b[39m\u001b[39m'\u001b[39m] \u001b[39m==\u001b[39m \u001b[39m'\u001b[39m\u001b[39m2\u001b[39m\u001b[39m'\u001b[39m, dtype \u001b[39m=\u001b[39m np\u001b[39m.\u001b[39mlong))\n\u001b[0;32m     <a href='vscode-notebook-cell:/c%3A/Users/korey/OneDrive/Desktop/Y4S1/BT4012%20Fraud/Project/kaggle-gcn-elliptic-dataset.ipynb#W5sZmlsZQ%3D%3D?line=15'>16</a>\u001b[0m gcn \u001b[39m=\u001b[39m GCN_2layer(num_features, \u001b[39m100\u001b[39m, num_classes)\n\u001b[0;32m     <a href='vscode-notebook-cell:/c%3A/Users/korey/OneDrive/Desktop/Y4S1/BT4012%20Fraud/Project/kaggle-gcn-elliptic-dataset.ipynb#W5sZmlsZQ%3D%3D?line=16'>17</a>\u001b[0m train_loss \u001b[39m=\u001b[39m nn\u001b[39m.\u001b[39mCrossEntropyLoss(weight \u001b[39m=\u001b[39m torch\u001b[39m.\u001b[39mDoubleTensor([\u001b[39m0.7\u001b[39m, \u001b[39m0.3\u001b[39m]))\n",
      "\u001b[1;31mTypeError\u001b[0m: string indices must be integers, not 'str'"
     ]
    }
   ],
   "source": [
    "num_features = 166\n",
    "num_classes = 2\n",
    "num_ts = 49\n",
    "epochs = 15\n",
    "lr = 0.001\n",
    "max_train_ts = 34\n",
    "train_ts = np.arange(max_train_ts)\n",
    "\n",
    "adj_mats, features_labelled_ts, classes_ts = dataSet\n",
    "\n",
    "# 0 - illicit, 1 - licit\n",
    "labels_ts = []\n",
    "for c in classes_ts:\n",
    "    labels_ts.append(np.array(c['class'] == '2', dtype = np.long))\n",
    "\n",
    "gcn = GCN_2layer(num_features, 100, num_classes)\n",
    "train_loss = nn.CrossEntropyLoss(weight = torch.DoubleTensor([0.7, 0.3]))\n",
    "optimizer = torch.optim.Adam(gcn.parameters(), lr = lr)\n",
    "\n",
    "# Training\n",
    "\n",
    "for ts in train_ts:\n",
    "    A = torch.tensor(adj_mats[ts].values)\n",
    "    X = torch.tensor(features_labelled_ts[ts].values)\n",
    "    L = torch.tensor(labels_ts[ts], dtype = torch.long)\n",
    "    for ep in range(epochs):\n",
    "        t_start = time.time()\n",
    "        \n",
    "        gcn.train()\n",
    "        optimizer.zero_grad()\n",
    "        out = gcn(A, X)\n",
    "\n",
    "        loss = train_loss(out, L)\n",
    "        train_pred = out.max(1)[1].type_as(L)\n",
    "        acc = (train_pred.eq(L).double().sum())/L.shape[0]\n",
    "\n",
    "        loss.backward()\n",
    "        optimizer.step()\n",
    "\n",
    "        sys.stdout.write(\"\\r Epoch %d/%d Timestamp %d/%d training loss: %f training accuracy: %f Time: %s\"\n",
    "                         %(ep, epochs, ts, max_train_ts, loss, acc, time.time() - t_start)\n",
    "                        )\n",
    "\n",
    "torch.save(gcn.state_dict(), str(os.path.join(\"./modelDir\", \"gcn_weights.pth\")))"
   ]
  },
  {
   "cell_type": "code",
   "execution_count": 13,
   "metadata": {
    "execution": {
     "iopub.execute_input": "2021-01-08T05:03:58.331620Z",
     "iopub.status.busy": "2021-01-08T05:03:58.330722Z",
     "iopub.status.idle": "2021-01-08T05:07:31.628690Z",
     "shell.execute_reply": "2021-01-08T05:07:31.629523Z"
    },
    "papermill": {
     "duration": 213.421083,
     "end_time": "2021-01-08T05:07:31.629736",
     "exception": false,
     "start_time": "2021-01-08T05:03:58.208653",
     "status": "completed"
    },
    "tags": []
   },
   "outputs": [
    {
     "ename": "TypeError",
     "evalue": "string indices must be integers, not 'str'",
     "output_type": "error",
     "traceback": [
      "\u001b[1;31m---------------------------------------------------------------------------\u001b[0m",
      "\u001b[1;31mTypeError\u001b[0m                                 Traceback (most recent call last)",
      "\u001b[1;32mc:\\Users\\korey\\OneDrive\\Desktop\\Y4S1\\BT4012 Fraud\\Project\\kaggle-gcn-elliptic-dataset.ipynb Cell 7\u001b[0m line \u001b[0;36m7\n\u001b[0;32m      <a href='vscode-notebook-cell:/c%3A/Users/korey/OneDrive/Desktop/Y4S1/BT4012%20Fraud/Project/kaggle-gcn-elliptic-dataset.ipynb#W6sZmlsZQ%3D%3D?line=4'>5</a>\u001b[0m labels_ts \u001b[39m=\u001b[39m []\n\u001b[0;32m      <a href='vscode-notebook-cell:/c%3A/Users/korey/OneDrive/Desktop/Y4S1/BT4012%20Fraud/Project/kaggle-gcn-elliptic-dataset.ipynb#W6sZmlsZQ%3D%3D?line=5'>6</a>\u001b[0m \u001b[39mfor\u001b[39;00m c \u001b[39min\u001b[39;00m classes_ts:\n\u001b[1;32m----> <a href='vscode-notebook-cell:/c%3A/Users/korey/OneDrive/Desktop/Y4S1/BT4012%20Fraud/Project/kaggle-gcn-elliptic-dataset.ipynb#W6sZmlsZQ%3D%3D?line=6'>7</a>\u001b[0m     labels_ts\u001b[39m.\u001b[39mappend(np\u001b[39m.\u001b[39marray(c[\u001b[39m'\u001b[39m\u001b[39mclass\u001b[39m\u001b[39m'\u001b[39m] \u001b[39m==\u001b[39m \u001b[39m'\u001b[39m\u001b[39m2\u001b[39m\u001b[39m'\u001b[39m, dtype \u001b[39m=\u001b[39m np\u001b[39m.\u001b[39mlong))\n\u001b[0;32m      <a href='vscode-notebook-cell:/c%3A/Users/korey/OneDrive/Desktop/Y4S1/BT4012%20Fraud/Project/kaggle-gcn-elliptic-dataset.ipynb#W6sZmlsZQ%3D%3D?line=8'>9</a>\u001b[0m gcn \u001b[39m=\u001b[39m GCN_2layer(num_features, \u001b[39m100\u001b[39m, num_classes)\n\u001b[0;32m     <a href='vscode-notebook-cell:/c%3A/Users/korey/OneDrive/Desktop/Y4S1/BT4012%20Fraud/Project/kaggle-gcn-elliptic-dataset.ipynb#W6sZmlsZQ%3D%3D?line=9'>10</a>\u001b[0m gcn\u001b[39m.\u001b[39mload_state_dict(torch\u001b[39m.\u001b[39mload(os\u001b[39m.\u001b[39mpath\u001b[39m.\u001b[39mjoin(\u001b[39m\"\u001b[39m\u001b[39m./modelDir\u001b[39m\u001b[39m\"\u001b[39m, \u001b[39m\"\u001b[39m\u001b[39mgcn_weights.pth\u001b[39m\u001b[39m\"\u001b[39m)))\n",
      "\u001b[1;31mTypeError\u001b[0m: string indices must be integers, not 'str'"
     ]
    }
   ],
   "source": [
    "from sklearn.metrics import f1_score, precision_score, recall_score\n",
    "test_ts = np.arange(14)\n",
    "\n",
    "# 0 - illicit, 1 - licit\n",
    "labels_ts = []\n",
    "for c in classes_ts:\n",
    "    labels_ts.append(np.array(c['class'] == '2', dtype = np.long))\n",
    "\n",
    "gcn = GCN_2layer(num_features, 100, num_classes)\n",
    "gcn.load_state_dict(torch.load(os.path.join(\"./modelDir\", \"gcn_weights.pth\")))\n",
    "\n",
    "# Testing\n",
    "test_accs = []\n",
    "test_precisions = []\n",
    "test_recalls = []\n",
    "test_f1s = []\n",
    "\n",
    "for ts in test_ts:\n",
    "    A = torch.tensor(adj_mats[ts].values)\n",
    "    X = torch.tensor(features_labelled_ts[ts].values)\n",
    "    L = torch.tensor(labels_ts[ts], dtype = torch.long)\n",
    "    \n",
    "    gcn.eval()\n",
    "    test_out = gcn(A, X)\n",
    "    \n",
    "    test_pred = test_out.max(1)[1].type_as(L)\n",
    "    t_acc = (test_pred.eq(L).double().sum())/L.shape[0]\n",
    "    test_accs.append(t_acc.item())\n",
    "    test_precisions.append(precision_score(L, test_pred))\n",
    "    test_recalls.append(recall_score(L, test_pred))\n",
    "    test_f1s.append(f1_score(L, test_pred))\n",
    "\n",
    "acc = np.array(test_accs).mean()\n",
    "prec = np.array(test_precisions).mean()\n",
    "rec = np.array(test_recalls).mean()\n",
    "f1 = np.array(test_f1s).mean()\n",
    "\n",
    "print(\"GCN - averaged accuracy: {}, precision: {}, recall: {}, f1: {}\".format(acc, prec, rec, f1))"
   ]
  },
  {
   "cell_type": "code",
   "execution_count": null,
   "metadata": {
    "papermill": {
     "duration": 0.327786,
     "end_time": "2021-01-08T05:07:32.250205",
     "exception": false,
     "start_time": "2021-01-08T05:07:31.922419",
     "status": "completed"
    },
    "tags": []
   },
   "outputs": [],
   "source": []
  }
 ],
 "metadata": {
  "kernelspec": {
   "display_name": "Python 3",
   "language": "python",
   "name": "python3"
  },
  "language_info": {
   "codemirror_mode": {
    "name": "ipython",
    "version": 3
   },
   "file_extension": ".py",
   "mimetype": "text/x-python",
   "name": "python",
   "nbconvert_exporter": "python",
   "pygments_lexer": "ipython3",
   "version": "3.11.5"
  },
  "papermill": {
   "duration": 858.264277,
   "end_time": "2021-01-08T05:07:33.488824",
   "environment_variables": {},
   "exception": null,
   "input_path": "__notebook__.ipynb",
   "output_path": "__notebook__.ipynb",
   "parameters": {},
   "start_time": "2021-01-08T04:53:15.224547",
   "version": "2.1.0"
  }
 },
 "nbformat": 4,
 "nbformat_minor": 4
}
